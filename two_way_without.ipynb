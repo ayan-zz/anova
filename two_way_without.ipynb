{
 "cells": [
  {
   "cell_type": "code",
   "execution_count": 1,
   "metadata": {},
   "outputs": [
    {
     "name": "stdout",
     "output_type": "stream",
     "text": [
      "                 sum_sq    df         F    PR(>F)\n",
      "C(Agent)     790.277778   5.0  2.024911  0.160215\n",
      "C(Location)  452.777778   2.0  2.900356  0.101535\n",
      "Residual     780.555556  10.0       NaN       NaN\n"
     ]
    }
   ],
   "source": [
    "import pandas as pd\n",
    "import numpy as np\n",
    "import statsmodels.api as sm\n",
    "from statsmodels.formula.api import ols\n",
    "from scipy.stats import f_oneway,f\n",
    "\n",
    "# Create a data frame with the ratings for each shopper and location\n",
    "ratings = pd.DataFrame({\n",
    "    'Agent': ['A1', 'A2', 'A3', 'A4', 'A5', 'A6', 'A1', 'A2', 'A3', 'A4', 'A5', 'A6',\n",
    "              'A1', 'A2', 'A3', 'A4', 'A5', 'A6'],\n",
    "    'Location': ['Delhi', 'Delhi', 'Delhi', 'Delhi', 'Delhi', 'Delhi', 'Mumbai', 'Mumbai',\n",
    "                 'Mumbai', 'Mumbai', 'Mumbai','Mumbai', 'Bangalore', 'Bangalore', 'Bangalore', 'Bangalore', 'Bangalore', 'Bangalore'],\n",
    "    'Rating': [75, 70, 50, 65, 80, 65,75, 70, 55, 60, 65, 65,90, 70, 80, 85, 80, 55]\n",
    "})\n",
    "\n",
    "# Create a two-way ANOVA model\n",
    "model = ols('Rating ~ C(Agent) + C(Location)', data=ratings).fit()\n",
    "f_stats_2 =sm.stats.anova_lm(model, typ=2)\n",
    "# Print the ANOVA table\n",
    "print(f_stats_2)"
   ]
  },
  {
   "cell_type": "code",
   "execution_count": 2,
   "metadata": {},
   "outputs": [
    {
     "name": "stdout",
     "output_type": "stream",
     "text": [
      "F-critical value: 3.3258345304130112\n",
      "F-critical value: 4.1028210151304005\n",
      "FAIL TO REJECT NULL HYPOTHESIS\n",
      "FAIL TO REJECT NULL HYPOTHESIS\n"
     ]
    }
   ],
   "source": [
    "f_agent=f_stats_2.F['C(Agent)']\n",
    "f_location=f_stats_2.F['C(Location)']\n",
    "\n",
    "# Alpha level\n",
    "alpha = 0.05\n",
    "\n",
    "# F-critical value\n",
    "f_crit1=f.ppf(1-alpha,5,10)\n",
    "f_crit2 = f.ppf(1 - alpha,2 , 10)\n",
    "\n",
    "print(f'F-critical value: {f_crit1}')\n",
    "print(f'F-critical value: {f_crit2}')\n",
    "\n",
    "if f_agent>f_crit1:\n",
    "  print(\"REJECT NULL HYPOTHESIS\")\n",
    "else:\n",
    "  print(\"FAIL TO REJECT NULL HYPOTHESIS\")\n",
    "\n",
    "if f_location>f_crit2:\n",
    "  print(\"REJECT NULL HYPOTHESIS\")\n",
    "else:\n",
    "  print(\"FAIL TO REJECT NULL HYPOTHESIS\")\n"
   ]
  }
 ],
 "metadata": {
  "kernelspec": {
   "display_name": "base",
   "language": "python",
   "name": "python3"
  },
  "language_info": {
   "codemirror_mode": {
    "name": "ipython",
    "version": 3
   },
   "file_extension": ".py",
   "mimetype": "text/x-python",
   "name": "python",
   "nbconvert_exporter": "python",
   "pygments_lexer": "ipython3",
   "version": "3.9.13"
  },
  "orig_nbformat": 4
 },
 "nbformat": 4,
 "nbformat_minor": 2
}
