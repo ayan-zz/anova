{
 "cells": [
  {
   "cell_type": "code",
   "execution_count": 1,
   "metadata": {},
   "outputs": [],
   "source": [
    "from scipy.stats import f_oneway,f\n",
    "import pandas as pd\n",
    "import numpy as np"
   ]
  },
  {
   "cell_type": "code",
   "execution_count": 2,
   "metadata": {},
   "outputs": [],
   "source": [
    "year1=[82,93,61,74,77,69,78,70]\n",
    "year2=[91,88,83,56,89,78,74,71]\n",
    "year3=[85,65,98,74,65,71,66,72]"
   ]
  },
  {
   "cell_type": "code",
   "execution_count": 3,
   "metadata": {},
   "outputs": [
    {
     "name": "stdout",
     "output_type": "stream",
     "text": [
      "f-statistics--> 0.3271544074147111\n",
      "pvalue--> 0.7245813833764774\n",
      "f_critical---> 3.4668001115424154\n"
     ]
    }
   ],
   "source": [
    "f_stats=f_oneway(year1, year2, year3)\n",
    "f_critical=f.ppf(q=1-0.05, dfn=2, dfd=21)\n",
    "print(\"f-statistics-->\",f_stats[0])\n",
    "print(\"pvalue-->\",f_stats[1])\n",
    "print(\"f_critical--->\",f_critical)"
   ]
  },
  {
   "cell_type": "code",
   "execution_count": 4,
   "metadata": {},
   "outputs": [
    {
     "name": "stdout",
     "output_type": "stream",
     "text": [
      "FAIL TO REJECT NULL HYPOTHESIS\n"
     ]
    }
   ],
   "source": [
    "if f_stats[0]>f_critical:\n",
    "  print(\"REJECT NULL HYPOTHESIS\")\n",
    "else:\n",
    "  print(\"FAIL TO REJECT NULL HYPOTHESIS\")"
   ]
  }
 ],
 "metadata": {
  "kernelspec": {
   "display_name": "base",
   "language": "python",
   "name": "python3"
  },
  "language_info": {
   "codemirror_mode": {
    "name": "ipython",
    "version": 3
   },
   "file_extension": ".py",
   "mimetype": "text/x-python",
   "name": "python",
   "nbconvert_exporter": "python",
   "pygments_lexer": "ipython3",
   "version": "3.9.13"
  },
  "orig_nbformat": 4
 },
 "nbformat": 4,
 "nbformat_minor": 2
}
