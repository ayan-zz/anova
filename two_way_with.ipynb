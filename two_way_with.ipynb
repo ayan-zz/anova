{
 "cells": [
  {
   "cell_type": "code",
   "execution_count": 1,
   "metadata": {},
   "outputs": [
    {
     "name": "stdout",
     "output_type": "stream",
     "text": [
      "                        df       sum_sq     mean_sq         F    PR(>F)\n",
      "C(Agent)               4.0   723.466667  180.866667  2.587753  0.045703\n",
      "C(Location)            2.0   250.640000  125.320000  1.793018  0.175261\n",
      "C(Agent):C(Location)   8.0  1394.293333  174.286667  2.493609  0.020842\n",
      "Residual              60.0  4193.600000   69.893333       NaN       NaN\n"
     ]
    }
   ],
   "source": [
    "import pandas as pd\n",
    "import statsmodels.api as sm\n",
    "from statsmodels.formula.api import ols\n",
    "from statsmodels.stats.anova import anova_lm\n",
    "\n",
    "# Create a data frame with the ratings for each shopper and location\n",
    "ratings = pd.DataFrame({\n",
    "    'Agent': ['S1', 'S1', 'S1','S1', 'S1', 'S1','S1', 'S1', 'S1', 'S1','S1','S1','S1','S1','S1',\n",
    "                'S2', 'S2', 'S2','S2', 'S2', 'S2','S2', 'S2', 'S2', 'S2', 'S2', 'S2','S2', 'S2', 'S2',\n",
    "                'S3', 'S3', 'S3','S3', 'S3', 'S3','S3', 'S3', 'S3', 'S3', 'S3','S3', 'S3','S3', 'S3',\n",
    "                'S4', 'S4', 'S4','S4', 'S4', 'S4','S4', 'S4', 'S4', 'S4','S4','S4', 'S4','S4','S4',\n",
    "                'S5', 'S5', 'S5','S5', 'S5', 'S5','S5', 'S5', 'S5','S5', 'S5', 'S5','S5', 'S5', 'S5'],\n",
    "    'Location': ['L1','L1','L1','L1','L1', 'L2','L2','L2' ,'L2','L2','L3','L3','L3','L3','L3',\n",
    "                 'L1','L1','L1','L1','L1', 'L2','L2','L2' ,'L2','L2','L3','L3','L3','L3','L3',\n",
    "                 'L1','L1','L1','L1','L1', 'L2','L2','L2' ,'L2','L2','L3','L3','L3','L3','L3',\n",
    "                 'L1','L1','L1','L1','L1', 'L2','L2','L2' ,'L2','L2','L3','L3','L3','L3','L3',\n",
    "                 'L1','L1','L1','L1','L1', 'L2','L2','L2' ,'L2','L2','L3','L3','L3','L3','L3'],\n",
    "    'Rating': [75,66,77,88,79,75,57,68,70,73,90,88,87,76,71,\n",
    "               70,72,78,75,77,70,68,56,87,75,70,66,87,86,84,\n",
    "               88,67,68,61,70,79,61,67,72,80,67,70,68,81,77,\n",
    "               60,58,51,64,69,66,58,61,74,87,81,79,71,66,61,\n",
    "               87,86,88,75,78,75,71,64,59,81,58,73,65,64,78]\n",
    "})\n",
    "\n",
    "# Create a two-way ANOVA model with replication\n",
    "model = ols('Rating ~ C(Agent) + C(Location) + C(Agent):C(Location)', data=ratings).fit()\n",
    "\n",
    "# Print the ANOVA table\n",
    "anova_model=anova_lm(model)\n",
    "\n",
    "print(anova_model)"
   ]
  },
  {
   "cell_type": "code",
   "execution_count": 2,
   "metadata": {},
   "outputs": [
    {
     "name": "stdout",
     "output_type": "stream",
     "text": [
      "F-critical value: 2.525215101982879\n",
      "F-critical value: 3.1504113105827303\n",
      "REJECT NULL HYPOTHESIS\n",
      "FAIL TO REJECT NULL HYPOTHESIS\n"
     ]
    }
   ],
   "source": [
    "from scipy.stats import f\n",
    "f_agent=anova_model.F['C(Agent)']\n",
    "f_location=anova_model.F['C(Location)']\n",
    "\n",
    "# Alpha level\n",
    "alpha = 0.05\n",
    "\n",
    "# F-critical value\n",
    "f_crit1=f.ppf(1-alpha,4,60)\n",
    "f_crit2 = f.ppf(1 - alpha,2,60)\n",
    "\n",
    "print(f'F-critical value: {f_crit1}')\n",
    "print(f'F-critical value: {f_crit2}')\n",
    "\n",
    "if f_agent>f_crit1:\n",
    "  print(\"REJECT NULL HYPOTHESIS\")\n",
    "else:\n",
    "  print(\"FAIL TO REJECT NULL HYPOTHESIS\")\n",
    "\n",
    "if f_location>f_crit2:\n",
    "  print(\"REJECT NULL HYPOTHESIS\")\n",
    "else:\n",
    "  print(\"FAIL TO REJECT NULL HYPOTHESIS\")"
   ]
  }
 ],
 "metadata": {
  "kernelspec": {
   "display_name": "base",
   "language": "python",
   "name": "python3"
  },
  "language_info": {
   "codemirror_mode": {
    "name": "ipython",
    "version": 3
   },
   "file_extension": ".py",
   "mimetype": "text/x-python",
   "name": "python",
   "nbconvert_exporter": "python",
   "pygments_lexer": "ipython3",
   "version": "3.9.13"
  },
  "orig_nbformat": 4
 },
 "nbformat": 4,
 "nbformat_minor": 2
}
